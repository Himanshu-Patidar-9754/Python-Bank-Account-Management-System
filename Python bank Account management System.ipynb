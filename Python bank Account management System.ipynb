{
 "cells": [
  {
   "cell_type": "markdown",
   "id": "c759f02e-87b9-4566-8713-8824b5bfe74b",
   "metadata": {},
   "source": [
    "Python Bank Account Management System\n",
    "\n",
    "\n",
    "Objective:\n",
    "Create a Python program that simulates a bank account management system. The system should allow users to create and manage bank accounts, perform transactions, and retrieve relevant details. The project should incorporate the key Python concepts you’ve learned, such as variables, data structures, functions, file handling, and modules.\n",
    "\n",
    "Requirements:\n",
    "\n",
    "1. Account Management:\n",
    "\n",
    "Users should be able to create new bank accounts. Each account must have the following attributes:\n",
    "Account holder's name1\n",
    "Account number (auto-generated)\n",
    "Account type (e.g., savings or current)\n",
    "Initial balance\n",
    "Allow users to retrieve account details, including account holder’s name, account number, account type, and current balance.\n",
    "\n",
    "\n",
    "2. Transactions:\n",
    "\n",
    "Implement the following transactions:\n",
    "Deposit: Users can deposit money into their accounts.\n",
    "Withdrawal: Users can withdraw money, ensuring that the withdrawal does not exceed the current balance.\n",
    "Transfer: Implement a function to transfer funds between two accounts.\n",
    "Ensure that transactions update the account balance accordingly.\n",
    "\n",
    "\n",
    "3. File Handling:\n",
    "\n",
    "Store account details and transaction history in files.\n",
    "Implement functionality to read and write account data to a file (using the pickle library).\n",
    "Load account data from the file at the start of the program and save updates to the file when the program terminates.\n",
    "Ensure the program can append new transactions to the existing file without overwriting previous data.\n",
    "\n",
    "\n",
    "4. Reports:\n",
    "\n",
    "Allow users to view transaction history for a specific account.\n",
    "Show details like date, type of transaction (deposit, withdrawal, transfer), and amount.\n",
    "Generate summary statistics for each account, such as total deposits, total withdrawals, and average transaction amounts using NumPy functions.\n",
    "\n",
    "\n",
    "5. User Interaction:\n",
    "\n",
    "Create an interactive menu to perform the following operations:\n",
    "Open a new account\n",
    "View account details\n",
    "Perform transactions (deposit, withdraw, transfer)\n",
    "View transaction history\n",
    "Exit the program\n",
    "Use conditional statements and loops to ensure smooth navigation between different menu options.\n",
    "\n",
    "\n",
    "6. Error Handling:\n",
    "\n",
    "Implement input validation (e.g., ensure deposit and withdrawal amounts are positive).\n",
    "Handle potential errors, such as attempting to withdraw more money than available in the account or transferring funds between non-existent accounts.\n",
    "\n",
    "\n",
    "7. Bonus (Optional):\n",
    "\n",
    "Implement login functionality for multiple users, requiring a username and password to access each account.\n",
    "Use advanced Python features, such as lambda functions, for quick calculations or specific operations within the program."
   ]
  },
  {
   "cell_type": "code",
   "execution_count": 14,
   "id": "64aacf51-8e6a-4720-a7d9-3ed97f232671",
   "metadata": {},
   "outputs": [
    {
     "name": "stdout",
     "output_type": "stream",
     "text": [
      "Kindly select from the below options         \n",
      "    1.Open New account\n",
      "    2.View account details\n",
      "    3.Perform transactions(deposit , withdraw,transfer)\n",
      "    4.View transaction history \n",
      "    5. Exit the program\n"
     ]
    },
    {
     "name": "stdin",
     "output_type": "stream",
     "text": [
      "Enter your choice  1\n"
     ]
    },
    {
     "name": "stdout",
     "output_type": "stream",
     "text": [
      "You are just few steps away to become our beloved customer\n"
     ]
    },
    {
     "name": "stdin",
     "output_type": "stream",
     "text": [
      "Enter your full name here Himanshu P\n",
      "Enter account type either saving or current saving\n",
      "Enter opening amount for this account 5000\n",
      "Enter 4 digit pin here 1234\n"
     ]
    },
    {
     "name": "stdout",
     "output_type": "stream",
     "text": [
      "Name - HIMANSHU P\n",
      "Account_type - SAVING\n",
      "Initial_balance - 5000\n",
      "Account_number - 73313873552\n",
      "Pin - 1234\n",
      "Kindly select from the below options         \n",
      "    1.Open New account\n",
      "    2.View account details\n",
      "    3.Perform transactions(deposit , withdraw,transfer)\n",
      "    4.View transaction history \n",
      "    5. Exit the program\n"
     ]
    },
    {
     "name": "stdin",
     "output_type": "stream",
     "text": [
      "Enter your choice  1\n"
     ]
    },
    {
     "name": "stdout",
     "output_type": "stream",
     "text": [
      "You are just few steps away to become our beloved customer\n"
     ]
    },
    {
     "name": "stdin",
     "output_type": "stream",
     "text": [
      "Enter your full name here Mohit P\n",
      "Enter account type either saving or current Current\n",
      "Enter opening amount for this account 5000\n",
      "Enter 4 digit pin here 1234\n"
     ]
    },
    {
     "name": "stdout",
     "output_type": "stream",
     "text": [
      "Name - MOHIT P\n",
      "Account_type - CURRENT\n",
      "Initial_balance - 5000\n",
      "Account_number - 23069059201\n",
      "Pin - 1234\n",
      "Kindly select from the below options         \n",
      "    1.Open New account\n",
      "    2.View account details\n",
      "    3.Perform transactions(deposit , withdraw,transfer)\n",
      "    4.View transaction history \n",
      "    5. Exit the program\n"
     ]
    },
    {
     "name": "stdin",
     "output_type": "stream",
     "text": [
      "Enter your choice  2\n",
      "Enter name here Himanshu P\n",
      "Enter your pin here 1234\n"
     ]
    },
    {
     "name": "stdout",
     "output_type": "stream",
     "text": [
      "Your account details are: \n",
      "Name - HIMANSHU P\n",
      "Account_type - SAVING\n",
      "Initial_balance - 5000\n",
      "Account_number - 73313873552\n",
      "Pin - 1234\n",
      "Kindly select from the below options         \n",
      "    1.Open New account\n",
      "    2.View account details\n",
      "    3.Perform transactions(deposit , withdraw,transfer)\n",
      "    4.View transaction history \n",
      "    5. Exit the program\n"
     ]
    },
    {
     "name": "stdin",
     "output_type": "stream",
     "text": [
      "Enter your choice  3\n"
     ]
    },
    {
     "name": "stdout",
     "output_type": "stream",
     "text": [
      "Kindly select option\n",
      "        A. Deposit\n",
      "        B. withdrew\n",
      "        C. Transfer\n"
     ]
    },
    {
     "name": "stdin",
     "output_type": "stream",
     "text": [
      "Enter your response here A\n",
      "Enter name here Himanshu p\n",
      "Enter your pin here 1234\n",
      "Enter amount you want to deposit 5000\n"
     ]
    },
    {
     "name": "stdout",
     "output_type": "stream",
     "text": [
      "Your amount deposited successfully\n",
      "Updated balance : 10000\n",
      "Kindly select from the below options         \n",
      "    1.Open New account\n",
      "    2.View account details\n",
      "    3.Perform transactions(deposit , withdraw,transfer)\n",
      "    4.View transaction history \n",
      "    5. Exit the program\n"
     ]
    },
    {
     "name": "stdin",
     "output_type": "stream",
     "text": [
      "Enter your choice  3\n"
     ]
    },
    {
     "name": "stdout",
     "output_type": "stream",
     "text": [
      "Kindly select option\n",
      "        A. Deposit\n",
      "        B. withdrew\n",
      "        C. Transfer\n"
     ]
    },
    {
     "name": "stdin",
     "output_type": "stream",
     "text": [
      "Enter your response here B\n",
      "Enter name here Himanshu Patidar\n",
      "Enter your pin here 1234\n",
      "Enter amount you want to withdraw 3000\n"
     ]
    },
    {
     "name": "stdout",
     "output_type": "stream",
     "text": [
      "Amount withdrwan successfully\n",
      "Updated balance : 1567\n",
      "Kindly select from the below options         \n",
      "    1.Open New account\n",
      "    2.View account details\n",
      "    3.Perform transactions(deposit , withdraw,transfer)\n",
      "    4.View transaction history \n",
      "    5. Exit the program\n"
     ]
    },
    {
     "name": "stdin",
     "output_type": "stream",
     "text": [
      "Enter your choice  3\n"
     ]
    },
    {
     "name": "stdout",
     "output_type": "stream",
     "text": [
      "Kindly select option\n",
      "        A. Deposit\n",
      "        B. withdrew\n",
      "        C. Transfer\n"
     ]
    },
    {
     "name": "stdin",
     "output_type": "stream",
     "text": [
      "Enter your response here B\n",
      "Enter name here Himanshu P\n",
      "Enter your pin here 1234\n",
      "Enter amount you want to withdraw 3000\n"
     ]
    },
    {
     "name": "stdout",
     "output_type": "stream",
     "text": [
      "Amount withdrwan successfully\n",
      "Updated balance : 7000\n",
      "Kindly select from the below options         \n",
      "    1.Open New account\n",
      "    2.View account details\n",
      "    3.Perform transactions(deposit , withdraw,transfer)\n",
      "    4.View transaction history \n",
      "    5. Exit the program\n"
     ]
    },
    {
     "name": "stdin",
     "output_type": "stream",
     "text": [
      "Enter your choice  3\n"
     ]
    },
    {
     "name": "stdout",
     "output_type": "stream",
     "text": [
      "Kindly select option\n",
      "        A. Deposit\n",
      "        B. withdrew\n",
      "        C. Transfer\n"
     ]
    },
    {
     "name": "stdin",
     "output_type": "stream",
     "text": [
      "Enter your response here C\n",
      "Enter name here Himanshu p\n",
      "Enter your pin here 1234\n",
      "Enter receivers_name here Mohit P\n",
      "Enter amount you want to transfer 5000\n"
     ]
    },
    {
     "name": "stdout",
     "output_type": "stream",
     "text": [
      "Amount transfer successfully\n",
      "Updated balance: 2000\n",
      "Match not found\n",
      "Kindly select from the below options         \n",
      "    1.Open New account\n",
      "    2.View account details\n",
      "    3.Perform transactions(deposit , withdraw,transfer)\n",
      "    4.View transaction history \n",
      "    5. Exit the program\n"
     ]
    },
    {
     "name": "stdin",
     "output_type": "stream",
     "text": [
      "Enter your choice  2\n",
      "Enter name here Mohit P\n",
      "Enter your pin here 1234\n"
     ]
    },
    {
     "name": "stdout",
     "output_type": "stream",
     "text": [
      "Your account details are: \n",
      "Name - MOHIT P\n",
      "Account_type - CURRENT\n",
      "Initial_balance - 10000\n",
      "Account_number - 23069059201\n",
      "Pin - 1234\n",
      "Kindly select from the below options         \n",
      "    1.Open New account\n",
      "    2.View account details\n",
      "    3.Perform transactions(deposit , withdraw,transfer)\n",
      "    4.View transaction history \n",
      "    5. Exit the program\n"
     ]
    },
    {
     "name": "stdin",
     "output_type": "stream",
     "text": [
      "Enter your choice  4\n",
      "Enter name here Himanshu P\n",
      "Enter your pin here 1234\n"
     ]
    },
    {
     "name": "stdout",
     "output_type": "stream",
     "text": [
      "Press 1 to see account history and Press 2 to check account summary\n"
     ]
    },
    {
     "name": "stdin",
     "output_type": "stream",
     "text": [
      "Enter your response here 1\n"
     ]
    },
    {
     "name": "stdout",
     "output_type": "stream",
     "text": [
      "HIMANSHU P transaction history is:\n",
      "2025-07-12 16:47:44.237830 - HIMANSHU P - Deposit - 5000\n",
      "2025-07-12 16:48:05.885904 - HIMANSHU PATIDAR - Withdraw - 3000\n",
      "2025-07-12 16:48:41.196665 - HIMANSHU P - Withdraw - 3000\n",
      "2025-07-12 16:49:10.931841 - HIMANSHU P - Transfer - 5000\n",
      "Kindly select from the below options         \n",
      "    1.Open New account\n",
      "    2.View account details\n",
      "    3.Perform transactions(deposit , withdraw,transfer)\n",
      "    4.View transaction history \n",
      "    5. Exit the program\n"
     ]
    },
    {
     "name": "stdin",
     "output_type": "stream",
     "text": [
      "Enter your choice  4\n",
      "Enter name here Himanshu P\n",
      "Enter your pin here 1234\n"
     ]
    },
    {
     "name": "stdout",
     "output_type": "stream",
     "text": [
      "Press 1 to see account history and Press 2 to check account summary\n"
     ]
    },
    {
     "name": "stdin",
     "output_type": "stream",
     "text": [
      "Enter your response here 2\n"
     ]
    },
    {
     "name": "stdout",
     "output_type": "stream",
     "text": [
      "HIMANSHU P transaction summary is:\n",
      "Total Deposits: 5000\n",
      "Total Withdrawals: 6000\n",
      "Transfers Sent: 5000\n",
      "Average Transaction Amount: 4000.0\n",
      "Kindly select from the below options         \n",
      "    1.Open New account\n",
      "    2.View account details\n",
      "    3.Perform transactions(deposit , withdraw,transfer)\n",
      "    4.View transaction history \n",
      "    5. Exit the program\n"
     ]
    },
    {
     "name": "stdin",
     "output_type": "stream",
     "text": [
      "Enter your choice  5\n"
     ]
    },
    {
     "name": "stdout",
     "output_type": "stream",
     "text": [
      "Thank you Have a nice day\n"
     ]
    }
   ],
   "source": [
    "import numpy as np                                         # Numpy for mathematical operations \n",
    "import pickle                                              # Pickle for file handling\n",
    "import random                                              # to generate random unique account numbers\n",
    "from datetime import datetime                              # for timestamp transactions \n",
    "\n",
    "f = open(\"Customer_details.txt\",\"rb\")                      # oepning customers_details file in read binary mode \n",
    "customers_details = pickle.load(f)                         # loading the customer data into file\n",
    "f.close()                                                  # to close file ,it is always necessary to close it so that it can save changes\n",
    "\n",
    "while True:                                                # Main loop for interactive user inputs \n",
    "    print(\"\"\"Kindly select from the below options         \n",
    "    1.Open New account\n",
    "    2.View account details\n",
    "    3.Perform transactions(deposit , withdraw,transfer)\n",
    "    4.View transaction history \n",
    "    5. Exit the program\"\"\")\n",
    "  \n",
    "    Choice = int(input(\"Enter your choice \"))             # taking user inputs and match with the connditions \n",
    "    if Choice == 1:                                       # option to create new account\n",
    "        print(\"You are just few steps away to become our beloved customer\")\n",
    "        Account_holder_name = input(\"Enter your full name here\").upper()                # taking input for account holder name\n",
    "        Account_type = input(\"Enter account type either saving or current\").upper()     # Account type\n",
    "        Opening_balance = int(input(\"Enter opening amount for this account\"))           # opening balance amount\n",
    "        Account_number = random.randint(10000000000,100000000000)                       # random unique acc number generated by random module\n",
    "        Pin = int(input(\"Enter 4 digit pin here\"))                                      # Pin \n",
    "                                                                                        # all these information are stored in the form of dictionary\n",
    "        Account_details = {\"Name\":Account_holder_name,\"Account_type\":Account_type,\"Initial_balance\":Opening_balance,\"Account_number\":Account_number,\"Pin\":Pin}\n",
    "        for i,j in Account_details.items():             # display accound info\n",
    "            print(i,\"-\",j)\n",
    "        \n",
    "    \n",
    "        customers_details.append(Account_details)      # append account information if new account got added\n",
    "    \n",
    "        f = open(\"Customer_details.txt\",\"wb\")         # open file to save data\n",
    "        pickle.dump(customers_details,f)              # save data with the help of pickle\n",
    "        f.close()                                     # file closed\n",
    "      \n",
    "    elif Choice == 2:                                 # for checking account details \n",
    "         name = input(\"Enter name here\").upper()\n",
    "         pin = int(input(\"Enter your pin here\"))\n",
    "         \n",
    "         found = False\n",
    "         for i in customers_details:                   # condition if both name and password mathes it will show all the details regarding the user \n",
    "             if i[\"Name\"] == name and i[\"Pin\"] == pin:\n",
    "                 print(\"Your account details are: \")\n",
    "                 for key,values in i.items():\n",
    "                     print(key,\"-\",values)\n",
    "                 found = True\n",
    "                 break                                # break the loop once execution completes \n",
    "         if not found:\n",
    "             print(\"No result found Kindly check your name and pin once again\")\n",
    "\n",
    "    elif Choice == 3:                                 # option for transaction\n",
    "        print(\"\"\"Kindly select option\n",
    "        A. Deposit\n",
    "        B. withdrew\n",
    "        C. Transfer\"\"\")\n",
    "        Response = input(\"Enter your response here\")\n",
    " \n",
    "        if Response == \"A\":                          # for amount deposit \n",
    "            name = input(\"Enter name here\").upper()      \n",
    "            pin = int(input(\"Enter your pin here\"))\n",
    "\n",
    "            \n",
    "\n",
    "            for i in customers_details:\n",
    "                if i[\"Name\"] == name and i[\"Pin\"] == pin:                        # Checking thew conditions\n",
    "                    Deposit_amount = int(input(\"Enter amount you want to deposit\"))       # input for deposit amount\n",
    "                    i[\"Initial_balance\"] += Deposit_amount                                # adding deposit amount into initial balance\n",
    "                    print(\"Your amount deposited successfully\")\n",
    "                    print(\"Updated balance :\",i[\"Initial_balance\"])                       # printing the updated balance\n",
    "\n",
    "                    f = open(\"Customer_details.txt\",\"wb\")                                 # opening file to save updated data\n",
    "                    pickle.dump(customers_details,f)\n",
    "                    f.close()\n",
    "                    \n",
    "                    Deposit_history = f\"{datetime.now()} - {name} - Deposit - {Deposit_amount}\\n\"   # logs entry\n",
    "                    transaction_file = open(\"transaction_file.txt\",\"a\")                 # open transaction file to append \n",
    "                    transaction_file.write(Deposit_history)                             # to write a deposit log here\n",
    "                    transaction_file.close()\n",
    "                    break\n",
    "            else:\n",
    "                print(\"Match not found\")\n",
    "                \n",
    "        elif Response == \"B\":                                                          # for withdraw\n",
    "            name = input(\"Enter name here\").upper()\n",
    "            pin = int(input(\"Enter your pin here\"))\n",
    "\n",
    "        \n",
    "\n",
    "            for i in customers_details:                                                # checking user details and password in customer_details file\n",
    "                if i[\"Name\"] == name and i[\"Pin\"] == pin:\n",
    "                    Withdraw_amount = int(input(\"Enter amount you want to withdraw\"))\n",
    "                    if Withdraw_amount <= i[\"Initial_balance\"]:              # checking condition that user cannot withdraw more than its account balance\n",
    "                        i[\"Initial_balance\"] -= Withdraw_amount              # deducting withdraw money from initial balance\n",
    "                        print(\"Amount withdrwan successfully\")\n",
    "                        print(\"Updated balance :\" , i[\"Initial_balance\"])\n",
    "\n",
    "                        f = open(\"Customer_details.txt\",\"wb\")                # saveing this data into file \n",
    "                        pickle.dump(customers_details,f)\n",
    "                        f.close()\n",
    "\n",
    "                        Withdraw_history = f\"{datetime.now()} - {name} - Withdraw - {Withdraw_amount}\\n\"  # withdraw logs \n",
    "                        transaction_file = open(\"transaction_file.txt\",\"a\")\n",
    "                        transaction_file.write(Withdraw_history)           # writing withdraw logs into this file \n",
    "                        transaction_file.close()\n",
    "                        break\n",
    "                    else:\n",
    "                        print(\"Insufficient_balance\")\n",
    "\n",
    "            else:\n",
    "                print(\"match not found\")\n",
    "        else:                                                             # for transfer\n",
    "            name = input(\"Enter name here\").upper()\n",
    "            pin = int(input(\"Enter your pin here\"))\n",
    "            Receiver_name = input(\"Enter receivers_name here\").upper()    # to whom amount is transfered\n",
    "            Transfer_amount = int(input(\"Enter amount you want to transfer\"))\n",
    "\n",
    "            \n",
    "\n",
    "            for i in customers_details:\n",
    "                if i[\"Name\"] == name and i[\"Pin\"] == pin and i[\"Initial_balance\"] >= Transfer_amount:\n",
    "                    i[\"Initial_balance\"] -= Transfer_amount          # deducting transfer amoun t from sender account \n",
    "                    for j in customers_details:\n",
    "                        if j[\"Name\"] == Receiver_name:\n",
    "                            j[\"Initial_balance\"] += Transfer_amount  # Adding transfer amount into receivers account\n",
    "                            print(\"Amount transfer successfully\")\n",
    "                            break\n",
    "                    else:\n",
    "                        print(\"Receiver account not found\")\n",
    "                    print(\"Updated balance:\",i[\"Initial_balance\"])\n",
    "                    \n",
    "                    f = open(\"Customer_details.txt\",\"wb\")\n",
    "                    pickle.dump(customers_details,f)\n",
    "                    f.close()\n",
    "\n",
    "                    transfer_history = f\"{datetime.now()} - {name} - Transfer - {Transfer_amount}\\n\" # transfer logs\n",
    "                    transaction_file = open(\"transaction_file.txt\",\"a\")\n",
    "                    transaction_file.write(transfer_history)            # writing transfer logs \n",
    "                    transaction_file.close()\n",
    "                       \n",
    "            else:\n",
    "                print(\"Match not found\")\n",
    "                \n",
    "    elif Choice == 4:                                                  # option to check account history and summary \n",
    "        \n",
    "        name = input(\"Enter name here\").upper()\n",
    "        pin = int(input(\"Enter your pin here\"))\n",
    "        print(\"Press 1 to see account history and Press 2 to check account summary\")\n",
    "        User_input = int(input(\"Enter your response here\"))\n",
    "\n",
    "        \n",
    "\n",
    "        if User_input == 1:                                         # account history \n",
    "\n",
    "            for i in customers_details:                              # checking user details into customers files \n",
    "                if i[\"Name\"] == name and i[\"Pin\"] == pin:\n",
    "                    print(name, \"transaction history is:\")\n",
    "    \n",
    "                    transaction_file = open(\"transaction_file.txt\",\"r\")\n",
    "                    History = transaction_file.readlines()\n",
    "                    transaction_file.close()\n",
    "    \n",
    "                    for j in History:                            # after validating user details in customer file now checking into transaction file\n",
    "                        if name in j:\n",
    "                            print(j.strip())                     # printing the saved transaction details from transaction files \n",
    "                    break\n",
    "    \n",
    "            else:\n",
    "                print(\"No match found\")\n",
    "        else:\n",
    "            for i in customers_details:                          # for account summary using numpy \n",
    "                if i[\"Name\"] == name and i[\"Pin\"] == pin:\n",
    "                    transaction_file = open(\"transaction_file.txt\",\"r\")\n",
    "                    History = transaction_file.readlines()\n",
    "                    transaction_file.close()\n",
    "\n",
    "                    deposit = []                               # to store deposit amount after condiiton met \n",
    "                    withdraw = []                              # to store withdrwan amount \n",
    "                    transfer_sent = []                         # to store transfer amount\n",
    "\n",
    "                    for j in History:                          # search in transaction file regarding username \n",
    "                        if name in j:\n",
    "                            if \"Deposit\" in j and \"Transfer\" not in j:\n",
    "                                amount = int(j.split(\" - \")[-1].strip())\n",
    "                                deposit.append(amount)\n",
    "                            elif \"Withdraw\" in j:\n",
    "                                amount = int(j.split(\" - \")[-1].strip())\n",
    "                                withdraw.append(amount)\n",
    "                            elif \"Transfer\" in j and (name + \" - Transfer\") in j:\n",
    "                                amount = int(j.split(\" - \")[-1].strip())\n",
    "                                transfer_sent.append(amount)\n",
    "\n",
    "                    \n",
    "                    all_txns = deposit + withdraw + transfer_sent          \n",
    "\n",
    "                    print(name, \"transaction summary is:\")\n",
    "                    print(\"Total Deposits:\", np.sum(deposit))                  # add all deposit amount \n",
    "                    print(\"Total Withdrawals:\", np.sum(withdraw))              # add all withdrawn amount\n",
    "                    print(\"Transfers Sent:\", np.sum(transfer_sent))            # add all transfer amount\n",
    "                    if all_txns:\n",
    "                        print(\"Average Transaction Amount:\", round(np.mean(all_txns), 2))  # averaging transaction amount and round up to 2 decimal values\n",
    "                    else:\n",
    "                        print(\"Average Transaction Amount: N/A\")             # if no transaction found \n",
    "                    break\n",
    "            else:\n",
    "                print(\"No match found\")\n",
    "    elif Choice == 5:                                                      # option to exit the program \n",
    "        print(\"Thank you Have a nice day\")\n",
    "        break\n",
    "    else:                                                                 # if any user enter wrong value \n",
    "        print(\"Invalid entry kindly choose between 1 to 5\")\n",
    "\n",
    "\n",
    "    "
   ]
  }
 ],
 "metadata": {
  "kernelspec": {
   "display_name": "Python 3 (ipykernel)",
   "language": "python",
   "name": "python3"
  },
  "language_info": {
   "codemirror_mode": {
    "name": "ipython",
    "version": 3
   },
   "file_extension": ".py",
   "mimetype": "text/x-python",
   "name": "python",
   "nbconvert_exporter": "python",
   "pygments_lexer": "ipython3",
   "version": "3.13.2"
  }
 },
 "nbformat": 4,
 "nbformat_minor": 5
}
